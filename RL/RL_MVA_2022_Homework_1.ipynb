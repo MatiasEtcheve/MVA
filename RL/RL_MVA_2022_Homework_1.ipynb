{
  "cells": [
    {
      "cell_type": "markdown",
      "metadata": {
        "id": "IAE8kMxe6E6k"
      },
      "source": [
        "# MVA - Homework 1 - Reinforcement Learning (2022/2023)\n",
        "\n",
        "**Name:** ETCHEVERRY Matias"
      ]
    },
    {
      "cell_type": "markdown",
      "metadata": {
        "id": "vY4MH0nU637o"
      },
      "source": [
        "## Instructions\n",
        "\n",
        "* The deadline is **November 10 at 11:59 pm (Paris time).**\n",
        "\n",
        "* By doing this homework you agree to the late day policy, collaboration and misconduct rules reported on [Piazza](https://piazza.com/class/l4y5ubadwj64mb/post/6).\n",
        "\n",
        "* **Mysterious or unsupported answers will not receive full credit**. A correct answer, unsupported by calculations, explanation, or algebraic work will receive no credit; an incorrect answer supported by substantially correct calculations and explanations might still receive partial credit.\n",
        "\n",
        "* Answers should be provided in **English**."
      ]
    },
    {
      "cell_type": "markdown",
      "metadata": {
        "id": "YB__2uUC5U1r"
      },
      "source": [
        "# Colab setup"
      ]
    },
    {
      "cell_type": "code",
      "execution_count": null,
      "metadata": {
        "colab": {
          "base_uri": "https://localhost:8080/"
        },
        "id": "2XNj1_VZ2FGJ",
        "outputId": "b98b1bd5-d957-4be7-fa74-e5828ed8b40c"
      },
      "outputs": [
        {
          "name": "stdout",
          "output_type": "stream",
          "text": [
            "Libraries installed, please restart the runtime!\n"
          ]
        }
      ],
      "source": [
        "from IPython import get_ipython\n",
        "\n",
        "if 'google.colab' in str(get_ipython()):\n",
        "  # install rlberry library\n",
        "  !pip install git+https://github.com/rlberry-py/rlberry.git@mva2021#egg=rlberry[default] > /dev/null 2>&1\n",
        "\n",
        "  # install ffmpeg-python for saving videos\n",
        "  !pip install ffmpeg-python > /dev/null 2>&1\n",
        "\n",
        "  # packages required to show video\n",
        "  !pip install pyvirtualdisplay > /dev/null 2>&1\n",
        "  !apt-get install -y xvfb python-opengl ffmpeg > /dev/null 2>&1\n",
        "\n",
        "  print(\"Libraries installed, please restart the runtime!\")\n"
      ]
    },
    {
      "cell_type": "code",
      "execution_count": null,
      "metadata": {
        "id": "s8F7RiPXjutB"
      },
      "outputs": [],
      "source": [
        "# Create directory for saving videos\n",
        "!mkdir videos > /dev/null 2>&1\n",
        "\n",
        "# Initialize display and import function to show videos\n",
        "import rlberry.colab_utils.display_setup\n",
        "from rlberry.colab_utils.display_setup import show_video"
      ]
    },
    {
      "cell_type": "code",
      "execution_count": null,
      "metadata": {
        "id": "KISV44N_nCNm"
      },
      "outputs": [],
      "source": [
        "# Useful libraries\n",
        "import numpy as np\n",
        "import matplotlib.pyplot as plt\n",
        "from time import time"
      ]
    },
    {
      "cell_type": "markdown",
      "metadata": {
        "id": "L4hKBRTCh6Gk"
      },
      "source": [
        "# Preparation\n",
        "\n",
        "In the coding exercises, you will use a *grid-world* MDP, which is represented in Python using the interface provided by the [Gym](https://gym.openai.com/) library. The cells below show how to interact with this MDP and how to visualize it.\n"
      ]
    },
    {
      "cell_type": "code",
      "execution_count": null,
      "metadata": {
        "colab": {
          "base_uri": "https://localhost:8080/"
        },
        "id": "514mHDeQooKa",
        "outputId": "6f29e9e4-079d-4ee7-f31c-a8c30e31ea65"
      },
      "outputs": [
        {
          "name": "stderr",
          "output_type": "stream",
          "text": [
            "[INFO] OpenGL_accelerate module loaded \n",
            "[INFO] Using accelerated ArrayDatatype \n",
            "[INFO] Generating grammar tables from /usr/lib/python3.7/lib2to3/Grammar.txt \n",
            "[INFO] Generating grammar tables from /usr/lib/python3.7/lib2to3/PatternGrammar.txt \n",
            "/usr/local/lib/python3.7/dist-packages/past/types/oldstr.py:5: DeprecationWarning: Using or importing the ABCs from 'collections' instead of from 'collections.abc' is deprecated since Python 3.3,and in 3.9 it will stop working\n",
            "  from collections import Iterable\n",
            "/usr/local/lib/python3.7/dist-packages/past/builtins/misc.py:4: DeprecationWarning: Using or importing the ABCs from 'collections' instead of from 'collections.abc' is deprecated since Python 3.3,and in 3.9 it will stop working\n",
            "  from collections import Mapping\n"
          ]
        }
      ],
      "source": [
        "from rlberry.envs import GridWorld\n",
        "\n",
        "def get_env():\n",
        "  \"\"\"Creates an instance of a grid-world MDP.\"\"\"\n",
        "  env = GridWorld(\n",
        "      nrows=5,\n",
        "      ncols=7,\n",
        "      reward_at = {(0, 6):1.0},\n",
        "      walls=((0, 4), (1, 4), (2, 4), (3, 4)),\n",
        "      success_probability=0.9,\n",
        "      terminal_states=((0, 6),)\n",
        "  )\n",
        "  return env\n",
        "\n",
        "def render_policy(env, policy=None, horizon=50):\n",
        "  \"\"\"Visualize a policy in an environment\n",
        "\n",
        "  Args:\n",
        "    env: GridWorld\n",
        "        environment where to run the policy\n",
        "    policy: np.array\n",
        "        matrix mapping states to action (Ns).\n",
        "        If None, runs random policy.\n",
        "    horizon: int\n",
        "        maximum number of timesteps in the environment.\n",
        "  \"\"\"\n",
        "  env.enable_rendering()\n",
        "  state = env.reset()                       # get initial state\n",
        "  for timestep in range(horizon):\n",
        "      if policy is None:\n",
        "        action = env.action_space.sample()  # take random actions\n",
        "      else:\n",
        "        action = policy[state]\n",
        "      next_state, reward, is_terminal, info = env.step(action)\n",
        "      state = next_state\n",
        "      if is_terminal:\n",
        "        break\n",
        "  # save video and clear buffer\n",
        "  env.save_video('./videos/gw.mp4', framerate=5)\n",
        "  env.clear_render_buffer()\n",
        "  env.disable_rendering()\n",
        "  # show video\n",
        "  show_video('./videos/gw.mp4')\n"
      ]
    },
    {
      "cell_type": "code",
      "execution_count": null,
      "metadata": {
        "colab": {
          "base_uri": "https://localhost:8080/",
          "height": 543
        },
        "id": "hQAHUBw_ifMI",
        "outputId": "67310454-8728-4140-e80a-f7e638ba99cb"
      },
      "outputs": [
        {
          "data": {
            "text/html": [
              "<video alt=\"videos/gw.mp4\" autoplay\n",
              "                      loop controls style=\"height: 400px;\">\n",
              "                    <source src=\"data:video/mp4;base64,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\" type=\"video/mp4\" />\n",
              "                 </video>"
            ],
            "text/plain": [
              "<IPython.core.display.HTML object>"
            ]
          },
          "metadata": {},
          "output_type": "display_data"
        },
        {
          "name": "stdout",
          "output_type": "stream",
          "text": [
            "Shape of the reward array = (S, A) = (31, 4)\n",
            "Shape of the transition array = (S, A, S) = (31, 4, 31)\n",
            "Reward at (s, a) = (1, 0): 0.0\n",
            "Prob[s'=2 | s=1, a=0]: 0.04999999999999999\n",
            "Number of states and actions: 31, 4\n",
            "Index of state (1, 0): 6\n",
            "Coordinates of state 5: (0, 6)\n"
          ]
        }
      ],
      "source": [
        "# Create an environment and visualize it\n",
        "env = get_env()\n",
        "render_policy(env)  # visualize random policy\n",
        "\n",
        "# The reward function and transition probabilities can be accessed through\n",
        "# the R and P attributes:\n",
        "print(f\"Shape of the reward array = (S, A) = {env.R.shape}\")\n",
        "print(f\"Shape of the transition array = (S, A, S) = {env.P.shape}\")\n",
        "print(f\"Reward at (s, a) = (1, 0): {env.R[1, 0]}\")\n",
        "print(f\"Prob[s\\'=2 | s=1, a=0]: {env.P[1, 0, 2]}\")\n",
        "print(f\"Number of states and actions: {env.Ns}, {env.Na}\")\n",
        "\n",
        "# The states in the griworld correspond to (row, col) coordinates.\n",
        "# The environment provides a mapping between (row, col) and the index of\n",
        "# each state:\n",
        "print(f\"Index of state (1, 0): {env.coord2index[(1, 0)]}\")\n",
        "print(f\"Coordinates of state 5: {env.index2coord[5]}\")"
      ]
    },
    {
      "cell_type": "markdown",
      "metadata": {
        "id": "ibGD_3I89CNu"
      },
      "source": [
        "# Part 1 - Dynamic Programming"
      ]
    },
    {
      "cell_type": "markdown",
      "metadata": {
        "id": "NR7h5won9NQY"
      },
      "source": [
        "## Question 1.1\n",
        "\n",
        "Consider a general MDP with a discount factor of $\\gamma < 1$. Assume that the horizon is infinite (so there is no termination). A policy $\\pi$ in this MDP\n",
        "induces a value function $V^\\pi$. Suppose an affine transformation is applied to the reward, what is\n",
        "the new value function? Is the optimal policy preserved?\n",
        "\n"
      ]
    },
    {
      "cell_type": "markdown",
      "metadata": {
        "id": "313W4K3B_LtN"
      },
      "source": [
        "### **Answer**\n",
        "\n",
        "Let \n",
        "\n",
        "\n",
        "* $\\pi$ be a policy\n",
        "* $s \\in \\mathcal{S}$ be any state\n",
        "* $V^\\pi(s)$ the value fonction at state $s$\n",
        "* we apply an affine transformation to the reward ie $r'(s) = as+b$\n",
        "* $W^\\pi(s)$ the value fonction for transformed reward at state $s$\n",
        "\n",
        "We have\n",
        "\n",
        "$$\n",
        "\\begin{align}\n",
        "V^\\pi(s) & = \\mathbb{E}\\left[G_t | S_t=s\\right] \\\\\n",
        "& = \\mathbb{E}\\left[\\sum_{k=0}^{\\infty} \\gamma^k R_{t+k+1} | S_t=s\\right] \\\\\n",
        "\\end{align}\n",
        "$$\n",
        "\n",
        "So we have\n",
        "\n",
        "$$\n",
        "\\begin{align}\n",
        "W^\\pi(s) & = \\mathbb{E}\\left[\\sum_{k=0}^{\\infty} \\gamma^k (aR_{t+k+1} +b) | S_t=s\\right] \\\\\n",
        "& = aV^\\pi(s) + \\frac{b}{1-\\gamma}\n",
        "\\end{align}\n",
        "$$\n",
        "\n",
        "We notice that for the optimal policy $\\pi^*$, and for any policy $\\pi$\n",
        "\n",
        "$$V^{\\pi^*}(s) \\geq V^\\pi(s)$$\n",
        "\n",
        "\n",
        "*   if $a \\geq 0$, we have\n",
        "$$\n",
        "\\begin{align}\n",
        "aV^{\\pi^*}(s) + \\frac{b}{1-\\gamma} & \\geq aV^{\\pi}(s) + \\frac{b}{1-\\gamma}\\\\\n",
        "W^{\\pi^*}(s) & \\geq W^{\\pi}(s)\n",
        "\\end{align}\n",
        "$$\n",
        "So the optimal policy $\\pi^*$ stay unchanged.\n",
        "\n",
        "*   if $a < 0$, we have\n",
        "$$\n",
        "\\begin{align}\n",
        "aV^{\\pi^*}(s) + \\frac{b}{1-\\gamma} & \\leq aV^{\\pi}(s) + \\frac{b}{1-\\gamma}\\\\\n",
        "W^{\\pi^*}(s) & \\leq W^{\\pi}(s)\n",
        "\\end{align}\n",
        "$$\n",
        "So the optimal policies are ordered in the reverse way. $\\pi$ is now the worst policy.\n",
        "\n",
        "\n",
        "\n",
        "\n",
        "\n",
        "\n",
        "\n"
      ]
    },
    {
      "cell_type": "markdown",
      "metadata": {
        "id": "0uCVgkDo9vTM"
      },
      "source": [
        "## Question 1.2\n",
        "\n",
        "Consider an infinite-horizon $\\gamma$-discounted MDP. We denote by $Q^*$ the $Q$-function of the optimal policy $\\pi^*$. Prove that, for any function $Q(s, a)$ (which is **not** necessarily the value function of a policy), the following inequality holds for any state $s$:\n",
        "\n",
        "$$\n",
        "V^{\\pi_Q}(s) \\geq V^*(s) - \\frac{2}{1-\\gamma}||Q^*-Q||_\\infty,\n",
        "$$\n",
        "\n",
        "where $||Q^*-Q||_\\infty = \\max_{s, a} |Q^*(s, a) - Q(s, a)|$ and $\\pi_Q(s) \\in \\arg\\max_a Q(s, a)$. Can you use this result to show that any policy $\\pi$ such that $\\pi(s) \\in \\arg\\max_a Q^*(s, a)$ is optimal?\n",
        "\n"
      ]
    },
    {
      "cell_type": "markdown",
      "metadata": {
        "id": "8MqGWPPD_OAI"
      },
      "source": [
        "### **Answer**\n",
        "\n",
        "This answer was found thanks to my classmates' hints.\n",
        "\n",
        "Let's consider\n",
        "\n",
        "*   $Q(s,a)$ any 2 parameter function, and its associated policy $\\pi_Q(s) \\in \\arg\\max_a Q(s, a)$\n",
        "*   $Q^*(s, a)$ the optimal state-action function, and its associated policy  $\\pi^* \\in \\arg\\max_\\pi V^\\pi(s)$\n",
        "\n",
        "First of all, we need to notice:\n",
        "\n",
        "$$\n",
        "\\begin{equation}\n",
        "Q^*(s, \\pi^*(s)) - Q(s, \\pi^*(s)) \\leq ||Q^* - Q||_\\infty\n",
        "\\end{equation}\n",
        "$$\n",
        "and, by definition of $\\pi_q(s) = arg \\max\\limits_{a \\in A} Q(s, a)$\n",
        "\n",
        "$$\n",
        "\\begin{equation}\n",
        "Q(s, \\pi_q(s)) \\geq Q(s, \\pi^*(s)) \\\\\n",
        "ie \\quad Q(s, \\pi^*(s)) - Q^*(s, \\pi_q(s)) \\leq Q(s, \\pi_q(s)) - Q^*(s, \\pi_q(s))\\leq ||Q^* - Q||_\\infty\\\\\n",
        "\\end{equation}\n",
        "$$\n",
        "Thus, using the 2 previous statement, \n",
        "\n",
        "$$\n",
        "\\begin{equation}\n",
        "2||Q^* - Q||_\\infty \\geq Q^*(s, \\pi^*(s)) - Q^*(s, \\pi_q(s))\\\\\n",
        "ie \\quad 2||Q^* - Q||_\\infty \\geq Q^*(s, \\pi^*(s)) -Q^{\\pi_q}(s, \\pi_q(s)) + Q^{\\pi_q}(s, \\pi_q(s)) - Q^*(s, \\pi_q(s))\\\\\n",
        "\\end{equation}\n",
        "$$\n",
        "\n",
        "About first 2 left terms:\n",
        "\\begin{equation}\n",
        " Q^*(s, \\pi^*(s)) -Q^{\\pi_q}(s, \\pi_q(s)) = V^*(s) - V^{\\pi_q}(s)\n",
        "\\end{equation}\n",
        "\n",
        "About the 2 right terms:\n",
        "\\begin{align}\n",
        "Q^{\\pi_q}(s, \\pi_q(s)) - Q^*(s, \\pi_q(s)) & = \\left(r(s, \\pi_q(s)) + \\gamma\\sum\\limits_{s' \\in S} p(s'|s, \\pi_q(s))V^{\\pi_q}(s')\\right) - \\left(r(s, \\pi_q(s)) + \\gamma\\sum\\limits_{s' \\in S} p(s'|s, \\pi_q(s))V^*(s'))\\right)\\\\ \n",
        "& = \\gamma\\sum\\limits_{s' \\in S} p(s'|s, \\pi_q(s))\\left(V^{\\pi_q}(s')-V^*(s'))\\right)\\\\\n",
        "\\end{align}\n",
        "\n",
        "Let $s_0$ the state minimizing $V^{\\pi_q}(s')-V^*(s')$ ie maximazing $V^*(s') - V^{\\pi_q}(s')$. We have\n",
        "\n",
        "\\begin{align}\n",
        "Q^{\\pi_q}(s, \\pi_q(s)) - Q^*(s, \\pi_q(s)) & \\geq \\gamma V^{\\pi_q}(s_0)-V^*(s_0)\\\\\n",
        "\\end{align}\n",
        "\n",
        "The equation above is true for any state, so if we apply the whole en $s_O$, we have:\n",
        "\n",
        "$$\n",
        "\\begin{align}\n",
        "2||Q^* - Q||_\\infty & \\geq  V^*(s_0) - V^{\\pi_q}(s_0) + \\gamma V^{\\pi_q}(s_0)-V^*(s_0)\\\\\n",
        "& \\geq (1 - \\gamma) (V^*(s_0) - V^{\\pi_q}(s_0))\\\\\n",
        "& \\geq (1 - \\gamma) (V^*(s) - V^{\\pi_q}(s)) \\quad \\text{for any state $s$, as it is maximzed by $s_0$}\n",
        "\\end{align}\n",
        "$$\n",
        "\n",
        "We then have, for any state $s$:\n",
        "$$\n",
        "\\begin{equation}\n",
        "2||Q^* - Q||_\\infty \\geq (1-\\gamma)(V^*(s) - V^{\\pi_q}(s))\\\\\n",
        "\\end{equation}\n",
        "$$\n",
        "\n",
        "In the end,\n",
        "\n",
        "$$\n",
        "V^{\\pi_Q}(s) \\geq V^*(s) - \\frac{2}{1-\\gamma}||Q^*-Q||_\\infty,\n",
        "$$\n",
        "\n",
        "$Q(s, a)$ being any function, we can chose $Q(s, a) = Q^*(s, a)$, and still have $\\pi(s) \\in \\arg\\max_a Q(s, a) = \\arg\\max_a Q^*(s, a)$. We end up with\n",
        "\n",
        "$$\n",
        "V^{\\pi}(s) \\geq V^*(s),\n",
        "$$\n",
        "\n",
        "ie $\\pi$ is optimal."
      ]
    },
    {
      "cell_type": "markdown",
      "metadata": {
        "id": "yIrtb7sihYcM"
      },
      "source": [
        "## Question 1.3\n",
        "\n",
        "In this question, you will implement and compare the policy and value iteration algorithms for a finite MDP. \n",
        "\n",
        "Complete the functions `policy_evaluation`, `policy_iteration` and `value_iteration` below.\n",
        "\n",
        "\n",
        "Compare value iteration and policy iteration. Highlight pros and cons of each method."
      ]
    },
    {
      "cell_type": "markdown",
      "metadata": {
        "id": "GLmQtk-wt0HS"
      },
      "source": [
        "### **Answer**\n",
        "\n",
        "Pros and cons of each method:\n",
        "\n",
        "**Value iteration:**\n",
        "\n",
        "* simpler and more intuitive algorithm\n",
        "* more expensive to compute thus slowest method\n",
        "* more iterations to converge ($1150$ iterations here)\n",
        "\n",
        "**Value inversion:**\n",
        "\n",
        "* very powerful in simple games\n",
        "* fastest method in simple games\n",
        "* almost exact result in simple games\n",
        "* matrix inversion is $O(n^3)$, thus it would be much slower in high dimension\n",
        "\n",
        "**Policy iteration:**\n",
        "\n",
        "* more complex algorithm\n",
        "* less expensive to compute thus faster than value iteration\n",
        "* few iterations to converge ($4$ iterations here)\n",
        "\n",
        "\n"
      ]
    },
    {
      "cell_type": "code",
      "execution_count": null,
      "metadata": {
        "id": "9yI0YYtMmpDQ"
      },
      "outputs": [],
      "source": [
        "def policy_evaluation(P, R, policy, gamma=0.9, tol=1e-2):\n",
        "    \"\"\"\n",
        "    Args:\n",
        "        P: np.array\n",
        "            transition matrix (NsxNaxNs)\n",
        "        R: np.array\n",
        "            reward matrix (NsxNa)\n",
        "        policy: np.array\n",
        "            matrix mapping states to action (Ns)\n",
        "        gamma: float\n",
        "            discount factor\n",
        "        tol: float\n",
        "            precision of the solution\n",
        "    Return:\n",
        "        value_function: np.array\n",
        "            The value function of the given policy\n",
        "    \"\"\"\n",
        "    Ns, Na = R.shape\n",
        "    # ====================================================\n",
        "    value_function = np.zeros(Ns)\n",
        "    error = tol + 1\n",
        "    proba_policy = np.array([p[a] for p, a in zip(P, policy)])\n",
        "    while error > tol:\n",
        "        Vprime = R[np.arange(len(policy)), policy] + gamma * proba_policy @ value_function\n",
        "        error = np.linalg.norm(value_function-Vprime)\n",
        "        value_function = Vprime\n",
        "    # ====================================================\n",
        "    return value_function\n"
      ]
    },
    {
      "cell_type": "code",
      "execution_count": null,
      "metadata": {
        "id": "ncqbPx99ncVY"
      },
      "outputs": [],
      "source": [
        "def policy_iteration(P, R, gamma=0.9, tol=1e-3):\n",
        "    \"\"\"\n",
        "    Args:\n",
        "        P: np.array\n",
        "            transition matrix (NsxNaxNs)\n",
        "        R: np.array\n",
        "            reward matrix (NsxNa)\n",
        "        gamma: float\n",
        "            discount factor\n",
        "        tol: float\n",
        "            precision of the solution\n",
        "    Return:\n",
        "        policy: np.array\n",
        "            the final policy\n",
        "        V: np.array\n",
        "            the value function associated to the final policy\n",
        "    \"\"\"\n",
        "    Ns, Na = R.shape\n",
        "    V = np.zeros(Ns)\n",
        "    policy = np.ones(Ns, dtype=int)\n",
        "    # ====================================================\n",
        "    error = 1\n",
        "    while error > 0:\n",
        "        # Evaluation\n",
        "        value_function = policy_evaluation(P, R, policy, gamma=gamma, tol=tol)\n",
        "\n",
        "        # Improvement\n",
        "        policyprime = np.zeros(Ns, dtype=int)\n",
        "        for i in range(Ns):\n",
        "            _v = R[i] + gamma * P[i, :, :] @ value_function\n",
        "            policyprime[i] = np.argmax(_v)\n",
        "\n",
        "        error = np.linalg.norm(policy - policyprime)\n",
        "        policy = np.copy(policyprime)\n",
        "    # ====================================================\n",
        "    value_function = policy_evaluation(P, R, policy, gamma=gamma, tol=tol)\n",
        "    return policy, value_function"
      ]
    },
    {
      "cell_type": "code",
      "execution_count": null,
      "metadata": {
        "id": "3jB7dfA5nRCZ"
      },
      "outputs": [],
      "source": [
        "def value_iteration(P, R, gamma=0.9, tol=1e-3):\n",
        "    \"\"\"\n",
        "    Args:\n",
        "        P: np.array\n",
        "            transition matrix (NsxNaxNs)\n",
        "        R: np.array\n",
        "            reward matrix (NsxNa)\n",
        "        gamma: float\n",
        "            discount factor\n",
        "        tol: float\n",
        "            precision of the solution\n",
        "    Return:\n",
        "        Q: final Q-function (at iteration n)\n",
        "        greedy_policy: greedy policy wrt Qn\n",
        "        Qfs: all Q-functions generated by the algorithm (for visualization)\n",
        "    \"\"\"\n",
        "    Ns, Na = R.shape\n",
        "    Q = np.zeros((Ns, Na))\n",
        "    Qfs = [Q]\n",
        "    # ====================================================\n",
        "    value_function = np.zeros(Ns)\n",
        "    error = tol + 1\n",
        "    while error > tol:\n",
        "        Qprime = np.zeros((Ns, Na))\n",
        "        maxQ = np.max(Q, axis=1)\n",
        "\n",
        "        for i in range(Ns):\n",
        "            Qprime[i] = R[i] + gamma * np.sum((P[i, :, :] * maxQ[None, :]), axis=1)\n",
        "\n",
        "        Qfs.append(Qprime)\n",
        "        error = np.max(np.abs(Q-Qprime))\n",
        "        Q = np.copy(Qprime)\n",
        "    greedy_policy = np.argmax(Q, axis=1)\n",
        "    # ====================================================\n",
        "    return Q, greedy_policy, Qfs"
      ]
    },
    {
      "cell_type": "markdown",
      "metadata": {
        "id": "-Fi0IzZJp74Z"
      },
      "source": [
        "### Testing your code"
      ]
    },
    {
      "cell_type": "code",
      "execution_count": null,
      "metadata": {
        "colab": {
          "base_uri": "https://localhost:8080/",
          "height": 1143
        },
        "id": "P7JKrc1oqFI2",
        "outputId": "ba829c37-d800-40c6-98dc-79f4b6abce36"
      },
      "outputs": [
        {
          "name": "stdout",
          "output_type": "stream",
          "text": [
            "[VI]Greedy policy: \n"
          ]
        },
        {
          "data": {
            "text/html": [
              "<video alt=\"videos/gw.mp4\" autoplay\n",
              "                      loop controls style=\"height: 400px;\">\n",
              "                    <source src=\"data:video/mp4;base64,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\" type=\"video/mp4\" />\n",
              "                 </video>"
            ],
            "text/plain": [
              "<IPython.core.display.HTML object>"
            ]
          },
          "metadata": {},
          "output_type": "display_data"
        },
        {
          "name": "stdout",
          "output_type": "stream",
          "text": [
            "\n",
            "[PI]final policy: \n"
          ]
        },
        {
          "data": {
            "text/html": [
              "<video alt=\"videos/gw.mp4\" autoplay\n",
              "                      loop controls style=\"height: 400px;\">\n",
              "                    <source src=\"data:video/mp4;base64,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\" type=\"video/mp4\" />\n",
              "                 </video>"
            ],
            "text/plain": [
              "<IPython.core.display.HTML object>"
            ]
          },
          "metadata": {},
          "output_type": "display_data"
        },
        {
          "name": "stdout",
          "output_type": "stream",
          "text": [
            "Value iteration duration: 0.4045s\n",
            "Value inversion duration: 0.0041s\n",
            "Policy iteration duration: 0.1218s\n"
          ]
        },
        {
          "data": {
            "image/png": "[encoded data removed]",
            "text/plain": [
              "<Figure size 432x288 with 1 Axes>"
            ]
          },
          "metadata": {
            "needs_background": "light"
          },
          "output_type": "display_data"
        }
      ],
      "source": [
        "# Parameters\n",
        "tol = 1e-5\n",
        "gamma = 0.99\n",
        "\n",
        "# Environment\n",
        "env = get_env()\n",
        "\n",
        "# run value iteration to obtain Q-values\n",
        "start_time = time()\n",
        "VI_Q, VI_greedypol, all_qfunctions = value_iteration(env.P, env.R, gamma=gamma, tol=tol)\n",
        "value_iteration_duration = time() - start_time\n",
        "\n",
        "# render the policy\n",
        "print(\"[VI]Greedy policy: \")\n",
        "render_policy(env, VI_greedypol)\n",
        "\n",
        "# compute the value function of the greedy policy using matrix inversion\n",
        "# ====================================================\n",
        "start_time = time()\n",
        "Ns, Na = env.R.shape\n",
        "Rpi = env.R[np.arange(len(VI_greedypol)), VI_greedypol]\n",
        "Ppi = env.P[np.arange(len(VI_greedypol)), VI_greedypol, :]\n",
        "greedy_V = np.linalg.inv(np.identity(Ns) - gamma * Ppi) @ Rpi\n",
        "value_inversion_duration = time() - start_time\n",
        "# ====================================================\n",
        "\n",
        "# show the error between the computed V-functions and the final V-function\n",
        "# (that should be the optimal one, if correctly implemented)\n",
        "# as a function of time\n",
        "final_V = all_qfunctions[-1].max(axis=1)\n",
        "norms = [ np.linalg.norm(q.max(axis=1) - final_V) for q in all_qfunctions]\n",
        "plt.plot(norms)\n",
        "plt.xlabel('Iteration')\n",
        "plt.ylabel('Error')\n",
        "plt.title(\"Value iteration: convergence\")\n",
        "\n",
        "#### POLICY ITERATION ####\n",
        "start_time = time()\n",
        "PI_policy, PI_V = policy_iteration(env.P, env.R, gamma=gamma, tol=tol)\n",
        "policy_iteration_duration = time() - start_time\n",
        "print(\"\\n[PI]final policy: \")\n",
        "render_policy(env, PI_policy)\n",
        "\n",
        "## Uncomment below to check that everything is correct\n",
        "assert np.allclose(PI_policy, VI_greedypol),\\\n",
        "    \"You should check the code, the greedy policy computed by VI is not equal to the solution of PI\"\n",
        "assert np.allclose(PI_V, greedy_V), \\\n",
        "    \"Since the policies are equal, even the value function should be\"\n",
        "\n",
        "print(\"Value iteration duration: {:.4f}s\".format(value_iteration_duration))\n",
        "print(\"Value inversion duration: {:.4f}s\".format(value_inversion_duration))\n",
        "print(\"Policy iteration duration: {:.4f}s\".format(policy_iteration_duration))\n",
        "\n",
        "plt.show()"
      ]
    },
    {
      "cell_type": "markdown",
      "metadata": {
        "id": "2V1QdoH-xFX0"
      },
      "source": [
        "# Part 2 - Tabular RL"
      ]
    },
    {
      "cell_type": "markdown",
      "metadata": {
        "id": "Qf51VhoPxbV4"
      },
      "source": [
        "## Question 2.1\n",
        "\n",
        "The code below collects two datasets of transitions (containing states, actions, rewards and next states) for a discrete MDP.\n",
        "\n",
        "For each of the datasets:\n",
        "\n",
        "1. Estimate the transitions and rewards, $\\hat{P}$ and $\\hat{R}$.\n",
        "2. Compute the optimal value function and the optimal policy with respect to the estimated MDP (defined by $\\hat{P}$ and $\\hat{R}$), which we denote by $\\hat{\\pi}$ and $\\hat{V}$.\n",
        "3. Numerically compare the performance of $\\hat{\\pi}$ and $\\pi^\\star$ (the true optimal policy), and the error between $\\hat{V}$ and $V^*$ (the true optimal value function).\n",
        "\n",
        "Which of the two data collection methods do you think is better? Why?"
      ]
    },
    {
      "cell_type": "markdown",
      "metadata": {
        "id": "eWSyewG2EZpJ"
      },
      "source": [
        "### **Answer**\n",
        "\n",
        "Thanks to the above cell, we undestand that the second dataset (obtained with `get_uniform_dataset`) gives better results than the first dataset (obtained with `get_random_policy_dataset`). Indeed, using the second dataset:\n",
        "\n",
        "* The estimation of $P$ and $R$ are closer to the groundtruth\n",
        "* However, the estimation of $V$ is worse than the groundtruth. But fortunately, an optimal policy can be found with very different state functions, so this is not a problem.\n",
        "\n",
        "I think it doesn't really make sense to compare the value of the policy as 2 very different policies may be optimal.\n",
        "\n",
        "In the end, the second dataset provides consistently better results.\n",
        "\n",
        "**Why ?**\n",
        "\n",
        "The dataset obtained with `get_uniform_dataset` works better because it can explore more. For instance, `get_random_policy_dataset` may do loops on the same state / action, while it is very unlikely with `get_uniform_dataset`.\n",
        "\n",
        "To illustrate this, we can consider an extreme case. Let's take the same game as before, but we add an island. Going or leaving the island is impossible, and being in the island gives no reward. With this new function, if we explore with a random policy whose beginning is in the island, we won't never get any information about the other part of the game. On the other hand, `get_uniform_dataset` will give some useful insights about the game.\n"
      ]
    },
    {
      "cell_type": "code",
      "execution_count": null,
      "metadata": {
        "colab": {
          "base_uri": "https://localhost:8080/",
          "height": 999
        },
        "id": "8lNPhB28EcGd",
        "outputId": "aec5dada-810f-4d2d-d44e-0a610c41d53a"
      },
      "outputs": [
        {
          "name": "stdout",
          "output_type": "stream",
          "text": [
            "Distance from estimated P to env.P:\n",
            "\tDataset 1: 5.212026551495549, Dataset 2: 2.215443103676694\n",
            "Distance from estimated R to env.R:\n",
            "\tDataset 1: 1.7320508075688772, Dataset 2: 0.0\n",
            "Distance from estimated V to V*\n",
            "\tDataset 1: 98.76966849322514, Dataset 2: 1.8627574443141697\n",
            "Distance from estimated Pi to PI*\n",
            "\tDataset 1: 6.708203932499369, Dataset 2: 5.196152422706632\n",
            "Greedy policy on dataset 1: \n"
          ]
        },
        {
          "data": {
            "text/html": [
              "<video alt=\"videos/gw.mp4\" autoplay\n",
              "                      loop controls style=\"height: 400px;\">\n",
              "                    <source src=\"data:video/mp4;base64,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\" type=\"video/mp4\" />\n",
              "                 </video>"
            ],
            "text/plain": [
              "<IPython.core.display.HTML object>"
            ]
          },
          "metadata": {},
          "output_type": "display_data"
        },
        {
          "name": "stdout",
          "output_type": "stream",
          "text": [
            "Greedy policy on dataset 1: \n"
          ]
        },
        {
          "data": {
            "text/html": [
              "<video alt=\"videos/gw.mp4\" autoplay\n",
              "                      loop controls style=\"height: 400px;\">\n",
              "                    <source src=\"data:video/mp4;base64,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\" type=\"video/mp4\" />\n",
              "                 </video>"
            ],
            "text/plain": [
              "<IPython.core.display.HTML object>"
            ]
          },
          "metadata": {},
          "output_type": "display_data"
        }
      ],
      "source": [
        "def get_random_policy_dataset(env, n_samples):\n",
        "  \"\"\"Get a dataset following a random policy to collect data.\"\"\"\n",
        "  states = []\n",
        "  actions = []\n",
        "  rewards = []\n",
        "  next_states = []\n",
        "  \n",
        "  state = env.reset()\n",
        "  for _ in range(n_samples):\n",
        "    action = env.action_space.sample()\n",
        "    next_state, reward, is_terminal, info = env.step(action)\n",
        "    states.append(state)\n",
        "    actions.append(action)\n",
        "    rewards.append(reward)\n",
        "    next_states.append(next_state)\n",
        "    # update state\n",
        "    state = next_state\n",
        "    if is_terminal:\n",
        "      state = env.reset()\n",
        "\n",
        "  dataset = (states, actions, rewards, next_states)\n",
        "  return dataset\n",
        "\n",
        "def get_uniform_dataset(env, n_samples):\n",
        "  \"\"\"Get a dataset by uniformly sampling states and actions.\"\"\"\n",
        "  states = []\n",
        "  actions = []\n",
        "  rewards = []\n",
        "  next_states = []\n",
        "  for _ in range(n_samples):\n",
        "    state = env.observation_space.sample()\n",
        "    action = env.action_space.sample()\n",
        "    next_state, reward, is_terminal, info = env.sample(state, action)\n",
        "    states.append(state)\n",
        "    actions.append(action)\n",
        "    rewards.append(reward)\n",
        "    next_states.append(next_state)\n",
        "\n",
        "  dataset = (states, actions, rewards, next_states)\n",
        "  return dataset\n",
        "\n",
        "\n",
        "# Collect two different datasets\n",
        "num_samples = 500\n",
        "env = get_env()\n",
        "dataset_1 = get_random_policy_dataset(env, num_samples)\n",
        "dataset_2 = get_uniform_dataset(env, num_samples)\n",
        "\n",
        "\n",
        "# Item 3: Estimate the MDP with the two datasets; compare the optimal value\n",
        "# functions in the true and in the estimated MDPs\n",
        "\n",
        "def estimate_p_r(dataset):\n",
        "    P = np.zeros((Ns, Na, Ns))\n",
        "    R = np.zeros((Ns, Na))\n",
        "\n",
        "    counter_P = np.zeros((Ns, Na, Ns))\n",
        "    counter_R = np.zeros((Ns, Na))\n",
        "\n",
        "    for state, action, reward, next_state in zip(*dataset):\n",
        "        P[state, action, next_state] += 1\n",
        "        R[state, action] += reward\n",
        "\n",
        "        counter_P[state, action, :] += 1\n",
        "        counter_R[state, action] += 1\n",
        "\n",
        "    P[counter_P > 0] /= counter_P[counter_P > 0]\n",
        "    R[counter_R > 0] /= counter_R[counter_R > 0]\n",
        "    \n",
        "    return P, R\n",
        "\n",
        "def norm_inf(A):\n",
        "    return np.max(np.abs(A))\n",
        "\n",
        "P_1, R_1 = estimate_p_r(dataset_1)\n",
        "P_2, R_2 = estimate_p_r(dataset_2)\n",
        "\n",
        "_, PI_1, all_qfunctions = value_iteration(P_1, R_1, gamma=gamma, tol=tol)\n",
        "V_1 = all_qfunctions[-1].max(axis=1)\n",
        "\n",
        "_, PI_2, all_qfunctions = value_iteration(P_2, R_2, gamma=gamma, tol=tol)\n",
        "V_2 = all_qfunctions[-1].max(axis=1)\n",
        "\n",
        "print(\"Distance from estimated P to env.P:\")\n",
        "print(f\"\\tDataset 1: {np.linalg.norm(P_1 - env.P)}, Dataset 2: {np.linalg.norm(P_2 - env.P)}\")\n",
        "print(\"Distance from estimated R to env.R:\")\n",
        "print(f\"\\tDataset 1: {np.linalg.norm(R_1 - env.R)}, Dataset 2: {np.linalg.norm(R_2 - env.R)}\")\n",
        "print(\"Distance from estimated V to V*\")\n",
        "print(f\"\\tDataset 1: {norm_inf(V_1 - greedy_V)}, Dataset 2: {norm_inf(V_2 - greedy_V)}\")\n",
        "print(\"Distance from estimated Pi to PI*\")\n",
        "print(f\"\\tDataset 1: {np.linalg.norm(PI_policy - PI_1)}, Dataset 2: {np.linalg.norm(PI_policy - PI_2)}\")\n",
        "\n",
        "print(\"Greedy policy on dataset 1: \")\n",
        "render_policy(env, PI_1)\n",
        "\n",
        "print(\"Greedy policy on dataset 1: \")\n",
        "render_policy(env, PI_2)\n",
        "    "
      ]
    },
    {
      "cell_type": "markdown",
      "metadata": {
        "id": "UKINsa_yGLGL"
      },
      "source": [
        "## Question 2.2\n",
        "\n",
        "Suppose that $\\hat{P}$ and $\\hat{R}$ are estimated from a dataset of exactly $N$ i.i.d. samples from **each** state-action pair. This means that, for each $(s,a)$, we have $N$ samples $\\{(s_1',r_1, \\dots, s_N', r_N\\}$, where $s_i' \\sim P(\\cdot | s,a)$ and $r_i \\sim R(s,a)$ for $i=1,\\dots,N$, and\n",
        "$$ \\hat{P}(s'|s,a) = \\frac{1}{N}\\sum_{i=1}^N \\mathbb{1}(s_i' = s'), $$\n",
        "$$ \\hat{R}(s,a) = \\frac{1}{N}\\sum_{i=1}^N r_i.$$\n",
        "Suppose that $R$ is a distribution with support in $[0,1]$. Let $\\hat{V}$ be the optimal value function computed in the empirical MDP (i.e., the one with transitions $\\hat{P}$ and rewards $\\hat{R}$). For any $\\delta\\in(0,1)$, derive an upper bound to the error\n",
        "\n",
        "$$ \\| \\hat{V} - V^* \\|_\\infty $$\n",
        "\n",
        "which holds with probability at least $1-\\delta$.\n",
        "\n",
        "**Note** Your bound should only depend on deterministic quantities like $N$, $\\gamma$, $\\delta$, $S$, $A$. It should *not* dependent on the actual random samples.\n",
        "\n",
        "**Hint** The following two inequalities may be helpful.\n",
        "\n",
        "1. **A (simplified) lemma**. For any state $\\bar{s}$,\n",
        "\n",
        "$$ |\\hat{V}(\\bar{s}) - V^*(\\bar{s})| \\leq \\frac{1}{1-\\gamma}\\max_{s,a} \\left| R(s,a) - \\hat{R}(s,a) + \\gamma \\sum_{s'}(P(s'|s,a) - \\hat{P}(s'|s,a)) V^*(s') \\right|$$\n",
        "\n",
        "2. **Hoeffding's inequality**. Let $X_1, \\dots X_N$ be $N$ i.i.d. random variables bounded in the interval $[0,b]$ for some $b>0$. Let $\\bar{X} = \\frac{1}{N}\\sum_{i=1}^N X_i$ be the empirical mean. Then, for any $\\epsilon > 0$,\n",
        "\n",
        "$$ \\mathbb{P}(|\\bar{X} - \\mathbb{E}[\\bar{X}]| > \\epsilon) \\leq 2e^{-\\frac{2N\\epsilon^2}{b^2}}.$$"
      ]
    },
    {
      "cell_type": "markdown",
      "metadata": {
        "id": "fKmdulLaMoiN"
      },
      "source": [
        "### **Answer**\n",
        "\n",
        "Let\n",
        "\n",
        "*   $ϵ$ the upper bound of $ \\| \\hat{V} - V^* \\|_\\infty $, for a probability $1-δ$.\n",
        "* $\\bar{s}$ any state in $S$.\n",
        "* $|S|$ and the $|A|$ the cardinal of states and actions.\n",
        "\n",
        "Then\n",
        "\n",
        "$$ \\left\\{ |\\hat{V}(\\bar{s}) - V^*(\\bar{s})| \\geq \\epsilon \\right\\} \\subset \\left\\{  \\frac{1}{1-\\gamma}\\max_{s,a} \\left| R(s,a) - \\hat{R}(s,a) + \\gamma \\sum_{s'}(P(s'|s,a) - \\hat{P}(s'|s,a)) V^*(s') \\right| \\geq \\epsilon \\right\\}$$\n",
        "\n",
        "We set \n",
        "\n",
        "$$ \n",
        "\\begin{align}\n",
        "X(s, a) & = r_i + \\gamma \\sum_{s' \\in S} 1_{s'=s}V^*(s') & r_i \\sim R(s,a), & s_i' \\sim P(\\cdot | s,a)\\\\\n",
        "\\end{align}\n",
        "$$\n",
        "\n",
        "The $X(s, a)$ are all independant. Indeed, they may be seen as samples of some distributions, but they don't require any knowledge on the actual game.\n",
        "Moreover, $X(s, a)$ are all bounded by the same value, denoted $b$:\n",
        "\n",
        "$$ X(s, a) \\leq 1 + \\gamma \\max_{s' \\in S} V^*(s') = b$$\n",
        "\n",
        "\n",
        "Thus, we have \n",
        "\n",
        "$$\n",
        "\\begin{align}\n",
        "\\left\\{  \\max_{s,a} \\left| X(s, a) -  \\mathbb{E}\\left[X(s, a)\\right] \\right| \\geq \\epsilon(1-\\gamma) \\right\\} & \\subset \\bigcup_{s \\in S, a \\in A} \\biggl\\{\\left| X(s, a) -  \\mathbb{E}\\left[X(s, a)\\right] \\right| \\geq \\epsilon(1-\\gamma) \\biggr\\}\n",
        "\\end{align}\n",
        "$$\n",
        "In the end, \n",
        "$$ \\biggl\\{ |\\hat{V}(\\bar{s}) - V^*(\\bar{s})| \\geq \\epsilon \\biggr\\} \\subset \\bigcup_{s \\in S, a \\in A} \\biggl\\{\\left| X(s, a) -  \\mathbb{E}\\left[X(s, a)\\right] \\right| \\geq \\epsilon(1-\\gamma) \\biggr\\}\n",
        "$$\n",
        "\n",
        "This above equation is true for any state $\\bar{s}$. Thus, it is true for the state $\\bar{s}$ maximizing $|\\hat{V}(\\bar{s}) - V^*(\\bar{s})|$, as there is a finite number of states.\n",
        "\n",
        "We now have \n",
        "\n",
        "$$ \n",
        "\\begin{align}\n",
        "\\mathbb{P} \\left( \\| \\hat{V} - V^* \\|_\\infty \\geq \\epsilon \\right) & \\leq \n",
        "\\mathbb{P} \\left(  \\bigcup_{s \\in S, a \\in A} \\biggl\\{\\left| X(s, a) -  \\mathbb{E}\\left[X(s, a)\\right] \\right| \\geq \\epsilon(1-\\gamma) \\biggr\\} \\right) \\\\ \n",
        "& \\leq \\sum_{s \\in S, a \\in A} \\mathbb{P} \\left( \\left| X(s, a) -  \\mathbb{E}\\left[X(s, a)\\right] \\right| \\geq \\epsilon(1-\\gamma) \\right)  \\\\\n",
        "& \\leq \\sum_{s \\in S, a \\in A} 2\\exp \\left( -\\frac{2Nϵ^2(1-\\gamma)^2}{b^2} \\right)   \\\\\n",
        "\\text{ie} \\quad \\mathbb{P} \\left( \\| \\hat{V} - V^* \\|_\\infty \\geq \\epsilon \\right) & \\leq 2 |S||A| \\exp \\left( -\\frac{2Nϵ^2(1-\\gamma)^2}{b^2} \\right) = \\delta  \\\\\n",
        "\\end{align}\n",
        "$$\n",
        "\n",
        "In the end, by taking the only positive value for $ϵ$:\n",
        "\n",
        "$$\n",
        "ϵ = \\frac{1 + \\gamma \\max\\limits_{s' \\in S} V^*(s') }{1-γ} \\sqrt{- \\frac{1}{2N} log \\left( \\frac{δ}{2|S||A|} \\right) }\n",
        "$$\n",
        "\n",
        "One may assume that we don't know $V^s$ and thus, we can't access the value of $\\max\\limits_{s' \\in S} V^*(s')$. To solve this issue, we can bound it, simply by assuming we receive a constant reward $r_{max}=1$ at each step:\n",
        "\n",
        "$$\n",
        "\\max\\limits_{s' \\in S} V^*(s') \\leq \\frac{1}{1-\\gamma}\n",
        "$$\n",
        "\n",
        "In that case, we have \n",
        "\n",
        "\n",
        "$$\n",
        "ϵ = \\frac{1}{(1-γ)^2} \\sqrt{- \\frac{1}{2N} log \\left( \\frac{δ}{2|S||A|} \\right) }\n",
        "$$\n",
        "\n",
        "Below, I decide to plot the $ϵ$ value wrt to the number of samples $N$, with a fixed value $\\delta=0.05$."
      ]
    },
    {
      "cell_type": "code",
      "execution_count": null,
      "metadata": {
        "colab": {
          "base_uri": "https://localhost:8080/",
          "height": 314
        },
        "id": "sxhxxiY2enWW",
        "outputId": "3c5abb2e-c78b-4c45-9ed6-e3edd0402d99"
      },
      "outputs": [
        {
          "data": {
            "image/png": "[encoded data removed]",
            "text/plain": [
              "<Figure size 432x288 with 1 Axes>"
            ]
          },
          "metadata": {
            "needs_background": "light"
          },
          "output_type": "display_data"
        },
        {
          "name": "stdout",
          "output_type": "stream",
          "text": [
            "We need 10000 samples to get epsilon=206.2663450459011 with proba 0.95, not knowing V*\n"
          ]
        }
      ],
      "source": [
        "from functools import partial\n",
        "\n",
        "def compute_eps(N, V_star, gamma, delta, card_s, card_a):\n",
        "    # Case 1: we know V_star\n",
        "    if V_star is not None:\n",
        "        b = 1 + gamma*max(V_star)\n",
        "    # Case 2: we don't know V_star\n",
        "    else:\n",
        "        b = 1 + gamma/(1-gamma)\n",
        "    return b / (1 - gamma) * np.sqrt( - 1 / (2*N) * np.log( delta / (2 * card_s * card_a)))\n",
        "\n",
        "delta = 0.05\n",
        "N = np.array([int(i) for i in np.linspace(10, 10000, 100, )])\n",
        "eps_without_v_star = np.array(list(map(partial(compute_eps, V_star=None, gamma=0.99, delta=delta, card_s=Ns, card_a=Na), N)))\n",
        "plt.plot(N, eps_without_v_star, label=r\"$\\epsilon$ not knowing $V^*$\")\n",
        "plt.ylabel(r\"$\\epsilon$\")\n",
        "plt.xlabel(\"Number of samples\")\n",
        "plt.title(r\"$\\epsilon$ wrt to the number of samples for a probability $1-\\delta=0.95$\")\n",
        "plt.legend()\n",
        "plt.show()\n",
        "print(f\"We need {N[-1]} samples to get epsilon={eps_without_v_star[-1]} with proba 0.95, not knowing V*\")"
      ]
    },
    {
      "cell_type": "markdown",
      "metadata": {
        "id": "tpqwCBG2MwxO"
      },
      "source": [
        "## Question 2.3\n",
        "\n",
        "Suppose once again that we are given a dataset of $N$ samples in the form of tuples $(s_i,a_i,s_i',r_i)$. We know that each tuple contains a valid transition from the true MDP, i.e., $s_i' \\sim P(\\cdot | s_i, a_i)$ and $r_i \\sim R(s_i,a_i)$, while the state-action pairs $(s_i,a_i)$ from which the transition started can be arbitrary.\n",
        "\n",
        "Suppose we want to apply Q-learning to this MDP. Can you think of a way to leverage this offline data to improve the sample-efficiency of the algorithm? What if we were using SARSA instead?"
      ]
    },
    {
      "cell_type": "markdown",
      "metadata": {
        "id": "mbYTKetHOYU_"
      },
      "source": [
        "### **Answer**\n",
        "\n",
        "We can levarage this dataset by using the Tabular Dyna-Q algorithm proposed by Sutton and Barto in 2018. This algorith aims at updating Q, based on observations. Those observations are obtained with an $\\epsilon$-greedy policy. At every iteration, we are supposed to select an action based on the $\\epsilon$-greedy policy. In our case, instead of choosing a random action with probability $\\epsilon$, we choose a random policy in our dataset with probability $\\epsilon$. At each iteration, we have\n",
        "\n",
        "$$\n",
        "\\begin{equation}\n",
        "Q(s, a) ← Q(s, a) + \\alpha_t(s, a)\\left(r + \\gamma \\max_{a'}Q(s′, a′) − Q(s, a)\\right)\n",
        "\\end{equation}\n",
        "$$\n",
        "With a sufficient large dataset, we can compute the maximum easily.\n",
        "\n",
        "I think we can do the same with SARSA. Indeed, SARSA is an on policy algorithm. The idea behind SARSA is to update a policy $\\pi$ iteratively. To do so, we can initialize a policy $\\pi = \\pi_0 = \\text{going left in every state}$ and update it using:\n",
        "\n",
        "$$\n",
        "\\begin{equation}\n",
        "Q(s, a) ← Q(s, a) + \\alpha_t(s, a)\\left(r + \\gamma Q(s′, a′) − Q(s, a)\\right)\n",
        "\\end{equation}\n",
        "$$\n",
        "\n",
        "Here $a'$ denotes the action obtained following the policy. We then update the policy $\\pi$ as being the greedy policy of $Q$.\n"
      ]
    },
    {
      "cell_type": "markdown",
      "metadata": {
        "id": "542QxKsSOs21"
      },
      "source": [
        "# Part 3 - RL with Function Approximation"
      ]
    },
    {
      "cell_type": "markdown",
      "metadata": {
        "id": "OiGZBiJ4PiIE"
      },
      "source": [
        "## Question 3.1\n",
        "\n",
        "Given a datset $(s_i, a_i, r_i, s_i')$ of (states, actions, rewards, next states), the Fitted Q-Iteration (FQI) algorithm proceeds as follows:\n",
        "\n",
        "\n",
        "* We start from a $Q$ function $Q_0 \\in \\mathcal{F}$, where $\\mathcal{F}$ is a function space;\n",
        "* At every iteration $k$, we compute $Q_{k+1}$ as:\n",
        "\n",
        "$$\n",
        "Q_{k+1}\\in\\arg\\min_{f\\in\\mathcal{F}} \\frac{1}{2}\\sum_{i=1}^N\n",
        "\\left(\n",
        "  f(s_i, a_i) - y_i^k\n",
        "\\right)^2 + \\lambda \\Omega(f)\n",
        "$$\n",
        "where $y_i^k = r_i + \\gamma \\max_{a'}Q_k(s_i', a')$, $\\Omega(f)$ is a regularization term and $\\lambda > 0$ is the regularization coefficient.\n",
        "\n",
        "\n",
        "Consider FQI with *linear* function approximation. That is, for a given feature map $\\phi : S \\rightarrow \\mathbb{R}^d$, we consider a parametric family of $Q$ functions $Q_\\theta(s,a) = \\phi(s)^T\\theta_a$ for $\\theta_a\\in\\mathbb{R}^d$. Suppose we are applying FQI on a given dataset of $N$ tuples of the form $(s_i, a_i, r_i, s_i')$ and we are at the $k$-th iteration. Let $\\theta_k \\in\\mathbb{R}^{d \\times A}$ be our current parameter. Derive the *closed-form* update to find $\\theta_{k+1}$, using $\\frac{1}{2}\\sum_a ||\\theta_a||_2^2$ as regularization."
      ]
    },
    {
      "cell_type": "markdown",
      "metadata": {
        "id": "7jx7aE41DkEM"
      },
      "source": [
        "### **Answer**\n",
        "\n",
        "Let $N$ the number of samples, made of $(s_i, a_i, r_i, s_i')$\n",
        "\n",
        "Let the objective function: \n",
        "\n",
        "\\begin{equation}\n",
        "O(\\theta) = \\frac{1}{2}\\sum_{i=1}^N\n",
        "\\left(\n",
        "  \\phi(s_i)^T\\theta_{a_i} - y_i^k\n",
        "\\right)^2 + \\lambda \\frac{1}{2}\\sum_a ||\\theta_a||_2^2\n",
        "\\end{equation}\n",
        "\n",
        "This objective function is convex wrt to $\\theta_a$ and coercive. Thus it admits a minimum $\\theta_a^*$ which cancels the gradient. Let's compute the gradient wrt to $\\theta_{a}$, with $a \\in A$.\n",
        "\n",
        "\\begin{equation}\n",
        "\\frac{\\partial O}{\\partial \\theta_{a}} = \\sum\\limits_{s_i \\in S | a_i = a} \\phi(s_i) \\left( \\phi(s_i)^T\\theta_a - y_i \\right) + \\lambda\\theta_a\n",
        "\\end{equation}\n",
        "\n",
        "Thus, cancelling the gradient is equivalent to:\n",
        "\n",
        "\\begin{align}\n",
        "\\frac{\\partial O}{\\partial \\theta_{a}} = 0  & \\Longleftrightarrow  \\sum\\limits_{s_i \\in S | a_i = a} \\phi(s_i) \\left( \\phi(s_i)^T\\theta_a - y_i \\right) + \\lambda\\theta_a = 0 \\\\\n",
        "& \\Longleftrightarrow \\theta_a \\left( \\lambda I + \\sum\\limits_{s_i \\in S | a_i = a} \\phi(s_i)\\phi(s_i)^T\\right) =  \\sum\\limits_{s_i \\in S | a_i = a} \\phi(s_i)y_i^k \\\\\n",
        "\\end{align}\n",
        "\n",
        "In the end, the equation above leads to solving iteratively on $k$\n",
        "\n",
        "\\begin{equation}\n",
        "\\theta_{k, a} = \\left( \\lambda I + \\sum\\limits_{s_i \\in S | a_i = a} \\phi(s_i)\\phi(s_i)^T\\right)^{-1} \\sum\\limits_{s_i \\in S | a_i = a} \\phi(s_i)y_i^k  \\quad \\text{for all } a \\in A\n",
        "\\end{equation}\n",
        "\n",
        "Note: $y_i^k$ depends on $\\theta_{k-1, \\cdot}$"
      ]
    },
    {
      "cell_type": "markdown",
      "metadata": {
        "id": "ewHzjm7MVGBg"
      },
      "source": [
        "\n",
        "\n",
        "## Question 3.2\n",
        "\n",
        "The code below creates a larger gridworld (with more states than the one used in the previous questions), and defines a feature map. Implement linear FQI to this environment (in the function `linear_fqi()` below), and compare the approximated $Q$ function to the optimal $Q$ function computed with value iteration.\n",
        "\n",
        "Can you improve the feature map in order to reduce the approximation error?"
      ]
    },
    {
      "cell_type": "markdown",
      "metadata": {
        "id": "Tu4g-HSnEcBs"
      },
      "source": [
        "### **Answer**\n",
        "\n",
        "[explanation about how you tried to reduce the approximation error + FQI implementation below]"
      ]
    },
    {
      "cell_type": "code",
      "execution_count": null,
      "metadata": {
        "id": "ZovF3VXOVfCs"
      },
      "outputs": [],
      "source": [
        "def get_large_gridworld():\n",
        "  \"\"\"Creates an instance of a grid-world MDP with more states.\"\"\"\n",
        "  walls = [(ii, 10) for ii in range(15) if (ii != 7 and ii != 8)]\n",
        "  env = GridWorld(\n",
        "      nrows=15,\n",
        "      ncols=15,\n",
        "      reward_at = {(14, 14):1.0},\n",
        "      walls=tuple(walls),\n",
        "      success_probability=0.9,\n",
        "      terminal_states=((14, 14),)\n",
        "  )\n",
        "  return env\n",
        "\n",
        "\n",
        "class GridWorldFeatureMap:\n",
        "  \"\"\"Create features for state-action pairs\n",
        "  \n",
        "  Args:\n",
        "    dim: int\n",
        "      Feature dimension\n",
        "    sigma: float\n",
        "      RBF kernel bandwidth\n",
        "  \"\"\"\n",
        "  def __init__(self, env, dim=15, sigma=0.25):\n",
        "    self.index2coord = env.index2coord\n",
        "    self.n_states = env.Ns\n",
        "    self.n_actions = env.Na\n",
        "    self.dim = dim\n",
        "    self.sigma = sigma\n",
        "\n",
        "    n_rows = env.nrows\n",
        "    n_cols = env.ncols\n",
        "\n",
        "    # build similarity matrix\n",
        "    sim_matrix = np.zeros((self.n_states, self.n_states))\n",
        "    for ii in range(self.n_states):\n",
        "        row_ii, col_ii = self.index2coord[ii]\n",
        "        x_ii = row_ii / n_rows\n",
        "        y_ii = col_ii / n_cols\n",
        "        for jj in range(self.n_states):\n",
        "            row_jj, col_jj = self.index2coord[jj]\n",
        "            x_jj = row_jj / n_rows\n",
        "            y_jj = col_jj / n_cols\n",
        "            dist = np.sqrt((x_jj - x_ii) ** 2.0 + (y_jj - y_ii) ** 2.0)\n",
        "            sim_matrix[ii, jj] = np.exp(-(dist / sigma) ** 2.0)\n",
        "\n",
        "    # factorize similarity matrix to obtain features\n",
        "    uu, ss, vh = np.linalg.svd(sim_matrix, hermitian=True)\n",
        "    self.feats = vh[:dim, :]\n",
        "\n",
        "  def map(self, observation):\n",
        "    feat = self.feats[:, observation].copy()\n",
        "    return feat"
      ]
    },
    {
      "cell_type": "code",
      "execution_count": null,
      "metadata": {
        "colab": {
          "base_uri": "https://localhost:8080/",
          "height": 508
        },
        "id": "InCfu7F9-TbS",
        "outputId": "b0c9884b-2b9d-4c04-e393-64fda1c51ee1"
      },
      "outputs": [
        {
          "data": {
            "text/html": [
              "<video alt=\"videos/gw.mp4\" autoplay\n",
              "                      loop controls style=\"height: 400px;\">\n",
              "                    <source src=\"data:video/mp4;base64,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\" type=\"video/mp4\" />\n",
              "                 </video>"
            ],
            "text/plain": [
              "<IPython.core.display.HTML object>"
            ]
          },
          "metadata": {},
          "output_type": "display_data"
        },
        {
          "name": "stdout",
          "output_type": "stream",
          "text": [
            "[-0.02850699  0.063555   -0.02169407 -0.06441918  0.04505794 -0.07537777\n",
            "  0.08506473 -0.09325287  0.09644275 -0.00535101  0.11632395 -0.13074085\n",
            "  0.00921342 -0.13853662  0.07118419]\n",
            "(15, 4)\n",
            "[0. 0. 0. 0.]\n"
          ]
        }
      ],
      "source": [
        "env = get_large_gridworld()\n",
        "feat_map = GridWorldFeatureMap(env)\n",
        "\n",
        "# Visualize large gridworld\n",
        "render_policy(env)\n",
        "\n",
        "# The features have dimension (feature_dim).\n",
        "feature_example = feat_map.map(1) # feature representation of s=1\n",
        "print(feature_example)\n",
        "\n",
        "# Initial vector theta representing the Q function\n",
        "theta = np.zeros((feat_map.dim, env.action_space.n))\n",
        "print(theta.shape)\n",
        "print(feature_example @ theta) # approximation of Q(s=1, a)"
      ]
    },
    {
      "cell_type": "code",
      "execution_count": null,
      "metadata": {
        "colab": {
          "base_uri": "https://localhost:8080/",
          "height": 894
        },
        "id": "p21KMmruugO1",
        "outputId": "d0a8f084-c837-4fd0-cc0a-fec7aca196ef"
      },
      "outputs": [
        {
          "name": "stderr",
          "output_type": "stream",
          "text": [
            "100%|██████████| 500/500 [00:18<00:00, 27.49it/s]\n"
          ]
        },
        {
          "data": {
            "text/html": [
              "<video alt=\"videos/gw.mp4\" autoplay\n",
              "                      loop controls style=\"height: 400px;\">\n",
              "                    <source src=\"data:video/mp4;base64,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\" type=\"video/mp4\" />\n",
              "                 </video>"
            ],
            "text/plain": [
              "<IPython.core.display.HTML object>"
            ]
          },
          "metadata": {},
          "output_type": "display_data"
        },
        {
          "data": {
            "image/png": "[encoded data removed]",
            "text/plain": [
              "<Figure size 1152x576 with 2 Axes>"
            ]
          },
          "metadata": {
            "needs_background": "light"
          },
          "output_type": "display_data"
        }
      ],
      "source": [
        "from tqdm import trange\n",
        "\n",
        "def linear_fqi(env, feat_map, num_iterations, lambd=0.1, gamma=0.95):\n",
        "    \"\"\"\n",
        "    # Linear FQI implementation\n",
        "    # TO BE COMPLETED\n",
        "    \"\"\"\n",
        "\n",
        "    # get a dataset\n",
        "    #    dataset = get_uniform_dataset(env, n_samples=...)\n",
        "    # OR dataset = get_random_policy_dataset(env, n_samples=...)\n",
        "\n",
        "    states, actions, rewards, next_states = get_uniform_dataset(env, n_samples=10000)\n",
        "    theta = np.zeros((feat_map.dim, env.Na))\n",
        "    state_features = np.array([feat_map.map(s) for s in range(env.Ns)])\n",
        "    d = state_features.shape[1]\n",
        "    for it in trange(num_iterations):\n",
        "        Qk = state_features @ theta\n",
        "\n",
        "        for action in range(env.Na):\n",
        "            index_actions = np.array(actions) == action\n",
        "            _states = np.array(states)[index_actions]\n",
        "            _rewards = np.array(rewards)[index_actions]\n",
        "            _next_states = np.array(next_states)[index_actions]\n",
        "\n",
        "            y =_rewards +  gamma *np.max(Qk[_next_states, :], axis=1)\n",
        "\n",
        "            a = lambd * np.eye(d) + state_features[_states].T @ state_features[_states]\n",
        "            b = np.sum(state_features[_states] * y[:, None], axis=0)\n",
        "            theta[:, action] = np.linalg.solve(a, b)\n",
        "    return theta\n",
        "\n",
        "# ----------------------------\n",
        "# Environment and feature map\n",
        "# ----------------------------\n",
        "env = get_large_gridworld()\n",
        "# you can change the parameters of the feature map, and even try other maps!\n",
        "feat_map = GridWorldFeatureMap(env, dim=50, sigma=0.25)\n",
        "\n",
        "# -------\n",
        "# Run FQI\n",
        "# -------\n",
        "theta = linear_fqi(env, feat_map, num_iterations=500)\n",
        "\n",
        "# Compute and run greedy policy\n",
        "Q_fqi = np.zeros((env.Ns, env.Na))\n",
        "for ss in range(env.Ns):\n",
        "  state_feat = feat_map.map(ss)\n",
        "  Q_fqi[ss, :] = state_feat @ theta\n",
        "\n",
        "V_fqi = Q_fqi.max(axis=1)\n",
        "policy_fqi = Q_fqi.argmax(axis=1)\n",
        "render_policy(env, policy_fqi, horizon=100)\n",
        "\n",
        "# Compute VI on value iteration\n",
        "VI_Q, VI_greedypol, all_qfunctions = value_iteration(env.P, env.R, gamma=0.95, tol=10e-5)\n",
        "\n",
        "# Visualize the approximate value function in the gridworld.\n",
        "fig, axs = plt.subplots(1, 2, figsize=(16, 8))\n",
        "img = env.get_layout_img(V_fqi)    \n",
        "axs[0].imshow(img)\n",
        "axs[0].set_title(\"Value function based on FQI\", fontsize=15)\n",
        "img = env.get_layout_img(all_qfunctions[-1].max(axis=1))    \n",
        "axs[1].imshow(img)\n",
        "axs[1].set_title(\"Value function based on value iteration (almost groundtruth)\", fontsize=15)\n",
        "plt.show()"
      ]
    },
    {
      "cell_type": "markdown",
      "metadata": {
        "id": "dtiNRLNQjx4d"
      },
      "source": [
        "In order to improve the FQI:\n",
        "\n",
        "* I increased the number of dimensions for the feature maps, from $d=15$ to $d=50$. The idea of feature maps is to encode state in a space of dimensions $d$, with $d \\ll N_s=212$. Obviously this condition is not met anymore.\n",
        "* I increased the value of sigma. \n",
        "* I increased the number of iteration up to 500.\n",
        "\n",
        "We see in our case that the results are not so good, with FQI:\n",
        "\n",
        "* the computational time is much greater than value iteration (or any method)\n",
        "* the found value function is not really good. For instance:\n",
        "    * we see that the tunnel up to the goal should show some purple, more than any other area, in order to guide the agent in it. This is not the case in FQI\n",
        "    * the areas blocked by the wall should be blue. This is not the case either. \n",
        "\n",
        "Those problem are due to the linear approximation. Indeed, the vector $\\theta_{a = \\text{going left}}$ encodes a general good idea, even when the agent is blocked by the wall."
      ]
    }
  ],
  "metadata": {
    "colab": {
      "collapsed_sections": [],
      "provenance": []
    },
    "gpuClass": "standard",
    "kernelspec": {
      "display_name": "Python 3",
      "language": "python",
      "name": "python3"
    },
    "language_info": {
      "name": "python",
      "version": "3.9.8"
    },
    "vscode": {
      "interpreter": {
        "hash": "d957684ece5f28dd1dc2d833ac725103049c28ef58a36ffb6c9f8afa6b14794b"
      }
    }
  },
  "nbformat": 4,
  "nbformat_minor": 0
}
